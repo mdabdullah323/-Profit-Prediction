{
 "cells": [
  {
   "cell_type": "code",
   "execution_count": 1,
   "id": "e9f0150a",
   "metadata": {
    "_cell_guid": "b1076dfc-b9ad-4769-8c92-a6c4dae69d19",
    "_uuid": "8f2839f25d086af736a60e9eeb907d3b93b6e0e5",
    "execution": {
     "iopub.execute_input": "2022-04-17T08:46:30.733558Z",
     "iopub.status.busy": "2022-04-17T08:46:30.726556Z",
     "iopub.status.idle": "2022-04-17T08:46:31.780496Z",
     "shell.execute_reply": "2022-04-17T08:46:31.781071Z",
     "shell.execute_reply.started": "2022-04-17T08:45:45.131014Z"
    },
    "papermill": {
     "duration": 1.076389,
     "end_time": "2022-04-17T08:46:31.781377",
     "exception": false,
     "start_time": "2022-04-17T08:46:30.704988",
     "status": "completed"
    },
    "tags": []
   },
   "outputs": [],
   "source": [
    "import numpy as np \n",
    "import pandas as pd\n",
    "import matplotlib.pyplot as plt\n",
    "from sklearn.linear_model import LinearRegression\n",
    "from sklearn.model_selection import train_test_split\n",
    "\n",
    "DataFrame= pd.read_csv('../input/profit-prediction-using-linear-regression/online.csv')"
   ]
  },
  {
   "cell_type": "markdown",
   "id": "a65ab743",
   "metadata": {
    "papermill": {
     "duration": 0.016159,
     "end_time": "2022-04-17T08:46:31.815380",
     "exception": false,
     "start_time": "2022-04-17T08:46:31.799221",
     "status": "completed"
    },
    "tags": []
   },
   "source": [
    "Show the first five rows of the data set"
   ]
  },
  {
   "cell_type": "code",
   "execution_count": 2,
   "id": "a8f9c3cd",
   "metadata": {
    "execution": {
     "iopub.execute_input": "2022-04-17T08:46:31.852337Z",
     "iopub.status.busy": "2022-04-17T08:46:31.851763Z",
     "iopub.status.idle": "2022-04-17T08:46:31.871242Z",
     "shell.execute_reply": "2022-04-17T08:46:31.871674Z",
     "shell.execute_reply.started": "2022-04-05T10:15:43.656332Z"
    },
    "papermill": {
     "duration": 0.03956,
     "end_time": "2022-04-17T08:46:31.871823",
     "exception": false,
     "start_time": "2022-04-17T08:46:31.832263",
     "status": "completed"
    },
    "tags": []
   },
   "outputs": [
    {
     "data": {
      "text/html": [
       "<div>\n",
       "<style scoped>\n",
       "    .dataframe tbody tr th:only-of-type {\n",
       "        vertical-align: middle;\n",
       "    }\n",
       "\n",
       "    .dataframe tbody tr th {\n",
       "        vertical-align: top;\n",
       "    }\n",
       "\n",
       "    .dataframe thead th {\n",
       "        text-align: right;\n",
       "    }\n",
       "</style>\n",
       "<table border=\"1\" class=\"dataframe\">\n",
       "  <thead>\n",
       "    <tr style=\"text-align: right;\">\n",
       "      <th></th>\n",
       "      <th>Marketing Spend</th>\n",
       "      <th>Administration</th>\n",
       "      <th>Transport</th>\n",
       "      <th>Area</th>\n",
       "      <th>Profit</th>\n",
       "    </tr>\n",
       "  </thead>\n",
       "  <tbody>\n",
       "    <tr>\n",
       "      <th>0</th>\n",
       "      <td>114523.61</td>\n",
       "      <td>136897.80</td>\n",
       "      <td>471784.10</td>\n",
       "      <td>Dhaka</td>\n",
       "      <td>192261.83</td>\n",
       "    </tr>\n",
       "    <tr>\n",
       "      <th>1</th>\n",
       "      <td>162597.70</td>\n",
       "      <td>151377.59</td>\n",
       "      <td>443898.53</td>\n",
       "      <td>Ctg</td>\n",
       "      <td>191792.06</td>\n",
       "    </tr>\n",
       "    <tr>\n",
       "      <th>2</th>\n",
       "      <td>153441.51</td>\n",
       "      <td>101145.55</td>\n",
       "      <td>407934.54</td>\n",
       "      <td>Rangpur</td>\n",
       "      <td>191050.39</td>\n",
       "    </tr>\n",
       "    <tr>\n",
       "      <th>3</th>\n",
       "      <td>144372.41</td>\n",
       "      <td>118671.85</td>\n",
       "      <td>383199.62</td>\n",
       "      <td>Dhaka</td>\n",
       "      <td>182901.99</td>\n",
       "    </tr>\n",
       "    <tr>\n",
       "      <th>4</th>\n",
       "      <td>142107.34</td>\n",
       "      <td>91391.77</td>\n",
       "      <td>366168.42</td>\n",
       "      <td>Rangpur</td>\n",
       "      <td>166187.94</td>\n",
       "    </tr>\n",
       "  </tbody>\n",
       "</table>\n",
       "</div>"
      ],
      "text/plain": [
       "   Marketing Spend  Administration  Transport     Area     Profit\n",
       "0        114523.61       136897.80  471784.10    Dhaka  192261.83\n",
       "1        162597.70       151377.59  443898.53      Ctg  191792.06\n",
       "2        153441.51       101145.55  407934.54  Rangpur  191050.39\n",
       "3        144372.41       118671.85  383199.62    Dhaka  182901.99\n",
       "4        142107.34        91391.77  366168.42  Rangpur  166187.94"
      ]
     },
     "execution_count": 2,
     "metadata": {},
     "output_type": "execute_result"
    }
   ],
   "source": [
    "DataFrame.head(5)"
   ]
  },
  {
   "cell_type": "markdown",
   "id": "2f9ad4da",
   "metadata": {
    "papermill": {
     "duration": 0.015971,
     "end_time": "2022-04-17T08:46:31.905126",
     "exception": false,
     "start_time": "2022-04-17T08:46:31.889155",
     "status": "completed"
    },
    "tags": []
   },
   "source": [
    "Show the description and the info of the data set."
   ]
  },
  {
   "cell_type": "code",
   "execution_count": 3,
   "id": "3338b13b",
   "metadata": {
    "execution": {
     "iopub.execute_input": "2022-04-17T08:46:31.941709Z",
     "iopub.status.busy": "2022-04-17T08:46:31.941173Z",
     "iopub.status.idle": "2022-04-17T08:46:31.971633Z",
     "shell.execute_reply": "2022-04-17T08:46:31.972179Z",
     "shell.execute_reply.started": "2022-04-05T10:15:43.883267Z"
    },
    "papermill": {
     "duration": 0.050429,
     "end_time": "2022-04-17T08:46:31.972359",
     "exception": false,
     "start_time": "2022-04-17T08:46:31.921930",
     "status": "completed"
    },
    "tags": []
   },
   "outputs": [
    {
     "data": {
      "text/html": [
       "<div>\n",
       "<style scoped>\n",
       "    .dataframe tbody tr th:only-of-type {\n",
       "        vertical-align: middle;\n",
       "    }\n",
       "\n",
       "    .dataframe tbody tr th {\n",
       "        vertical-align: top;\n",
       "    }\n",
       "\n",
       "    .dataframe thead th {\n",
       "        text-align: right;\n",
       "    }\n",
       "</style>\n",
       "<table border=\"1\" class=\"dataframe\">\n",
       "  <thead>\n",
       "    <tr style=\"text-align: right;\">\n",
       "      <th></th>\n",
       "      <th>Marketing Spend</th>\n",
       "      <th>Administration</th>\n",
       "      <th>Transport</th>\n",
       "      <th>Profit</th>\n",
       "    </tr>\n",
       "  </thead>\n",
       "  <tbody>\n",
       "    <tr>\n",
       "      <th>count</th>\n",
       "      <td>50.000000</td>\n",
       "      <td>50.000000</td>\n",
       "      <td>50.000000</td>\n",
       "      <td>50.000000</td>\n",
       "    </tr>\n",
       "    <tr>\n",
       "      <th>mean</th>\n",
       "      <td>73721.615600</td>\n",
       "      <td>121344.639600</td>\n",
       "      <td>211025.097800</td>\n",
       "      <td>112012.639200</td>\n",
       "    </tr>\n",
       "    <tr>\n",
       "      <th>std</th>\n",
       "      <td>45902.256482</td>\n",
       "      <td>28017.802755</td>\n",
       "      <td>122290.310726</td>\n",
       "      <td>40306.180338</td>\n",
       "    </tr>\n",
       "    <tr>\n",
       "      <th>min</th>\n",
       "      <td>0.000000</td>\n",
       "      <td>51283.140000</td>\n",
       "      <td>0.000000</td>\n",
       "      <td>14681.400000</td>\n",
       "    </tr>\n",
       "    <tr>\n",
       "      <th>25%</th>\n",
       "      <td>39936.370000</td>\n",
       "      <td>103730.875000</td>\n",
       "      <td>129300.132500</td>\n",
       "      <td>90138.902500</td>\n",
       "    </tr>\n",
       "    <tr>\n",
       "      <th>50%</th>\n",
       "      <td>73051.080000</td>\n",
       "      <td>122699.795000</td>\n",
       "      <td>212716.240000</td>\n",
       "      <td>107978.190000</td>\n",
       "    </tr>\n",
       "    <tr>\n",
       "      <th>75%</th>\n",
       "      <td>101602.800000</td>\n",
       "      <td>144842.180000</td>\n",
       "      <td>299469.085000</td>\n",
       "      <td>139765.977500</td>\n",
       "    </tr>\n",
       "    <tr>\n",
       "      <th>max</th>\n",
       "      <td>165349.200000</td>\n",
       "      <td>182645.560000</td>\n",
       "      <td>471784.100000</td>\n",
       "      <td>192261.830000</td>\n",
       "    </tr>\n",
       "  </tbody>\n",
       "</table>\n",
       "</div>"
      ],
      "text/plain": [
       "       Marketing Spend  Administration      Transport         Profit\n",
       "count        50.000000       50.000000      50.000000      50.000000\n",
       "mean      73721.615600   121344.639600  211025.097800  112012.639200\n",
       "std       45902.256482    28017.802755  122290.310726   40306.180338\n",
       "min           0.000000    51283.140000       0.000000   14681.400000\n",
       "25%       39936.370000   103730.875000  129300.132500   90138.902500\n",
       "50%       73051.080000   122699.795000  212716.240000  107978.190000\n",
       "75%      101602.800000   144842.180000  299469.085000  139765.977500\n",
       "max      165349.200000   182645.560000  471784.100000  192261.830000"
      ]
     },
     "execution_count": 3,
     "metadata": {},
     "output_type": "execute_result"
    }
   ],
   "source": [
    "des=DataFrame.describe()\n",
    "des"
   ]
  },
  {
   "cell_type": "code",
   "execution_count": 4,
   "id": "07141ab1",
   "metadata": {
    "execution": {
     "iopub.execute_input": "2022-04-17T08:46:32.012035Z",
     "iopub.status.busy": "2022-04-17T08:46:32.011412Z",
     "iopub.status.idle": "2022-04-17T08:46:32.025000Z",
     "shell.execute_reply": "2022-04-17T08:46:32.025579Z",
     "shell.execute_reply.started": "2022-04-05T10:15:44.010963Z"
    },
    "papermill": {
     "duration": 0.035334,
     "end_time": "2022-04-17T08:46:32.025735",
     "exception": false,
     "start_time": "2022-04-17T08:46:31.990401",
     "status": "completed"
    },
    "tags": []
   },
   "outputs": [
    {
     "name": "stdout",
     "output_type": "stream",
     "text": [
      "<class 'pandas.core.frame.DataFrame'>\n",
      "RangeIndex: 50 entries, 0 to 49\n",
      "Data columns (total 5 columns):\n",
      " #   Column           Non-Null Count  Dtype  \n",
      "---  ------           --------------  -----  \n",
      " 0   Marketing Spend  50 non-null     float64\n",
      " 1   Administration   50 non-null     float64\n",
      " 2   Transport        50 non-null     float64\n",
      " 3   Area             50 non-null     object \n",
      " 4   Profit           50 non-null     float64\n",
      "dtypes: float64(4), object(1)\n",
      "memory usage: 2.1+ KB\n"
     ]
    }
   ],
   "source": [
    "inf=DataFrame.info()\n",
    "inf"
   ]
  },
  {
   "cell_type": "code",
   "execution_count": 5,
   "id": "4a14ed98",
   "metadata": {
    "execution": {
     "iopub.execute_input": "2022-04-17T08:46:32.067276Z",
     "iopub.status.busy": "2022-04-17T08:46:32.066648Z",
     "iopub.status.idle": "2022-04-17T08:46:32.069832Z",
     "shell.execute_reply": "2022-04-17T08:46:32.070412Z",
     "shell.execute_reply.started": "2022-04-05T10:15:44.302136Z"
    },
    "papermill": {
     "duration": 0.025469,
     "end_time": "2022-04-17T08:46:32.070575",
     "exception": false,
     "start_time": "2022-04-17T08:46:32.045106",
     "status": "completed"
    },
    "tags": []
   },
   "outputs": [],
   "source": [
    "X = DataFrame['Marketing Spend'].values\n",
    "Y = DataFrame['Profit'].values"
   ]
  },
  {
   "cell_type": "code",
   "execution_count": 6,
   "id": "68d816a7",
   "metadata": {
    "execution": {
     "iopub.execute_input": "2022-04-17T08:46:32.109853Z",
     "iopub.status.busy": "2022-04-17T08:46:32.109220Z",
     "iopub.status.idle": "2022-04-17T08:46:32.115371Z",
     "shell.execute_reply": "2022-04-17T08:46:32.114837Z",
     "shell.execute_reply.started": "2022-04-05T10:15:44.385626Z"
    },
    "papermill": {
     "duration": 0.026876,
     "end_time": "2022-04-17T08:46:32.115517",
     "exception": false,
     "start_time": "2022-04-17T08:46:32.088641",
     "status": "completed"
    },
    "tags": []
   },
   "outputs": [
    {
     "data": {
      "text/plain": [
       "array([114523.61, 162597.7 , 153441.51, 144372.41, 142107.34, 131876.9 ,\n",
       "       134615.46, 130298.13, 120542.52, 123334.88, 101913.08, 100671.96,\n",
       "        93863.75,  91992.39, 119943.24, 165349.2 ,  78013.11,  94657.16,\n",
       "        91749.16,  86419.7 ,  76253.86,  78389.47,  73994.56,  67532.53,\n",
       "        77044.01,  64664.71,  75328.87,  72107.6 ,  66051.52,  65605.48,\n",
       "        61994.48,  61136.38,  63408.86,  55493.95,  46426.07,  46014.02,\n",
       "        28663.76,  44069.95,  20229.59,  38558.51,  28754.33,  27892.92,\n",
       "        23640.93,  15505.73,  22177.74,   1000.23,   1315.46,      0.  ,\n",
       "          542.05,      0.  ])"
      ]
     },
     "execution_count": 6,
     "metadata": {},
     "output_type": "execute_result"
    }
   ],
   "source": [
    "X\n"
   ]
  },
  {
   "cell_type": "code",
   "execution_count": 7,
   "id": "a4500014",
   "metadata": {
    "execution": {
     "iopub.execute_input": "2022-04-17T08:46:32.158862Z",
     "iopub.status.busy": "2022-04-17T08:46:32.158323Z",
     "iopub.status.idle": "2022-04-17T08:46:32.161558Z",
     "shell.execute_reply": "2022-04-17T08:46:32.162155Z",
     "shell.execute_reply.started": "2022-04-05T10:15:44.446486Z"
    },
    "papermill": {
     "duration": 0.027587,
     "end_time": "2022-04-17T08:46:32.162300",
     "exception": false,
     "start_time": "2022-04-17T08:46:32.134713",
     "status": "completed"
    },
    "tags": []
   },
   "outputs": [
    {
     "data": {
      "text/plain": [
       "array([192261.83, 191792.06, 191050.39, 182901.99, 166187.94, 156991.12,\n",
       "       156122.51, 155752.6 , 152211.77, 149759.96, 146121.95, 144259.4 ,\n",
       "       141585.52, 134307.35, 132602.65, 129917.04, 126992.93, 125370.37,\n",
       "       124266.9 , 122776.86, 118474.03, 111313.02, 110352.25, 108733.99,\n",
       "       108552.04, 107404.34, 105733.54, 105008.31, 103282.38, 101004.64,\n",
       "        99937.59,  97483.56,  97427.84,  96778.92,  96712.8 ,  96479.51,\n",
       "        90708.19,  89949.14,  81229.06,  81005.76,  78239.91,  77798.83,\n",
       "        71498.49,  69758.98,  65200.33,  64926.08,  49490.75,  42559.73,\n",
       "        35673.41,  14681.4 ])"
      ]
     },
     "execution_count": 7,
     "metadata": {},
     "output_type": "execute_result"
    }
   ],
   "source": [
    "Y"
   ]
  },
  {
   "cell_type": "code",
   "execution_count": 8,
   "id": "cf956d42",
   "metadata": {
    "execution": {
     "iopub.execute_input": "2022-04-17T08:46:32.205616Z",
     "iopub.status.busy": "2022-04-17T08:46:32.204979Z",
     "iopub.status.idle": "2022-04-17T08:46:32.211936Z",
     "shell.execute_reply": "2022-04-17T08:46:32.212402Z",
     "shell.execute_reply.started": "2022-04-05T10:15:44.510514Z"
    },
    "papermill": {
     "duration": 0.030338,
     "end_time": "2022-04-17T08:46:32.212575",
     "exception": false,
     "start_time": "2022-04-17T08:46:32.182237",
     "status": "completed"
    },
    "tags": []
   },
   "outputs": [
    {
     "data": {
      "text/plain": [
       "array([[114523.61],\n",
       "       [162597.7 ],\n",
       "       [153441.51],\n",
       "       [144372.41],\n",
       "       [142107.34],\n",
       "       [131876.9 ],\n",
       "       [134615.46],\n",
       "       [130298.13],\n",
       "       [120542.52],\n",
       "       [123334.88],\n",
       "       [101913.08],\n",
       "       [100671.96],\n",
       "       [ 93863.75],\n",
       "       [ 91992.39],\n",
       "       [119943.24],\n",
       "       [165349.2 ],\n",
       "       [ 78013.11],\n",
       "       [ 94657.16],\n",
       "       [ 91749.16],\n",
       "       [ 86419.7 ],\n",
       "       [ 76253.86],\n",
       "       [ 78389.47],\n",
       "       [ 73994.56],\n",
       "       [ 67532.53],\n",
       "       [ 77044.01],\n",
       "       [ 64664.71],\n",
       "       [ 75328.87],\n",
       "       [ 72107.6 ],\n",
       "       [ 66051.52],\n",
       "       [ 65605.48],\n",
       "       [ 61994.48],\n",
       "       [ 61136.38],\n",
       "       [ 63408.86],\n",
       "       [ 55493.95],\n",
       "       [ 46426.07],\n",
       "       [ 46014.02],\n",
       "       [ 28663.76],\n",
       "       [ 44069.95],\n",
       "       [ 20229.59],\n",
       "       [ 38558.51],\n",
       "       [ 28754.33],\n",
       "       [ 27892.92],\n",
       "       [ 23640.93],\n",
       "       [ 15505.73],\n",
       "       [ 22177.74],\n",
       "       [  1000.23],\n",
       "       [  1315.46],\n",
       "       [     0.  ],\n",
       "       [   542.05],\n",
       "       [     0.  ]])"
      ]
     },
     "execution_count": 8,
     "metadata": {},
     "output_type": "execute_result"
    }
   ],
   "source": [
    "X = X.reshape(-1,1)\n",
    "X"
   ]
  },
  {
   "cell_type": "code",
   "execution_count": 9,
   "id": "28b9e1b0",
   "metadata": {
    "execution": {
     "iopub.execute_input": "2022-04-17T08:46:32.257436Z",
     "iopub.status.busy": "2022-04-17T08:46:32.255037Z",
     "iopub.status.idle": "2022-04-17T08:46:32.461320Z",
     "shell.execute_reply": "2022-04-17T08:46:32.460759Z",
     "shell.execute_reply.started": "2022-04-05T10:15:44.577604Z"
    },
    "papermill": {
     "duration": 0.228601,
     "end_time": "2022-04-17T08:46:32.461445",
     "exception": false,
     "start_time": "2022-04-17T08:46:32.232844",
     "status": "completed"
    },
    "tags": []
   },
   "outputs": [
    {
     "data": {
      "text/plain": [
       "<matplotlib.collections.PathCollection at 0x7fb45d64de10>"
      ]
     },
     "execution_count": 9,
     "metadata": {},
     "output_type": "execute_result"
    },
    {
     "data": {
      "image/png": "[encoded data removed]",
      "text/plain": [
       "<Figure size 432x288 with 1 Axes>"
      ]
     },
     "metadata": {
      "needs_background": "light"
     },
     "output_type": "display_data"
    }
   ],
   "source": [
    "plt.scatter(X,Y, color='blue')"
   ]
  },
  {
   "cell_type": "code",
   "execution_count": 10,
   "id": "8591fea4",
   "metadata": {
    "execution": {
     "iopub.execute_input": "2022-04-17T08:46:32.509579Z",
     "iopub.status.busy": "2022-04-17T08:46:32.508557Z",
     "iopub.status.idle": "2022-04-17T08:46:32.517196Z",
     "shell.execute_reply": "2022-04-17T08:46:32.517806Z",
     "shell.execute_reply.started": "2022-04-05T10:15:44.800882Z"
    },
    "papermill": {
     "duration": 0.0359,
     "end_time": "2022-04-17T08:46:32.518030",
     "exception": false,
     "start_time": "2022-04-17T08:46:32.482130",
     "status": "completed"
    },
    "tags": []
   },
   "outputs": [
    {
     "name": "stdout",
     "output_type": "stream",
     "text": [
      "X-Train Shape [(33, 1)] Y-Train Shape [(33,)]\n",
      "X-Test Shape [(17, 1)] Y-Test Shape [(33,)]\n"
     ]
    },
    {
     "data": {
      "text/plain": [
       "array([[134615.46],\n",
       "       [ 28663.76],\n",
       "       [ 44069.95],\n",
       "       [ 66051.52],\n",
       "       [ 15505.73],\n",
       "       [     0.  ],\n",
       "       [131876.9 ],\n",
       "       [ 55493.95],\n",
       "       [ 76253.86],\n",
       "       [ 23640.93],\n",
       "       [114523.61],\n",
       "       [100671.96],\n",
       "       [ 91749.16],\n",
       "       [  1000.23],\n",
       "       [ 20229.59],\n",
       "       [ 64664.71],\n",
       "       [ 75328.87]])"
      ]
     },
     "execution_count": 10,
     "metadata": {},
     "output_type": "execute_result"
    }
   ],
   "source": [
    "x_train, x_test, y_train, y_test = train_test_split(X, Y, train_size=.67, test_size=.33, random_state=100)\n",
    "print(f'X-Train Shape [{x_train.shape}]', f'Y-Train Shape [{y_train.shape}]')\n",
    "print(f'X-Test Shape [{x_test.shape}]',  f'Y-Test Shape [{y_train.shape}]')\n",
    "x_train, y_train\n",
    "x_train = x_train.reshape(-1,1)\n",
    "x_test = x_test.reshape(-1,1)\n",
    "\n",
    "x_train\n",
    "x_test\n"
   ]
  },
  {
   "cell_type": "code",
   "execution_count": 11,
   "id": "95836f46",
   "metadata": {
    "execution": {
     "iopub.execute_input": "2022-04-17T08:46:32.572237Z",
     "iopub.status.busy": "2022-04-17T08:46:32.571630Z",
     "iopub.status.idle": "2022-04-17T08:46:32.581333Z",
     "shell.execute_reply": "2022-04-17T08:46:32.581999Z",
     "shell.execute_reply.started": "2022-04-05T10:15:44.813725Z"
    },
    "papermill": {
     "duration": 0.041738,
     "end_time": "2022-04-17T08:46:32.582195",
     "exception": false,
     "start_time": "2022-04-17T08:46:32.540457",
     "status": "completed"
    },
    "tags": []
   },
   "outputs": [
    {
     "name": "stdout",
     "output_type": "stream",
     "text": [
      "Training Accuracy 89.9%\n",
      "Test Accuracy 83.5%\n"
     ]
    }
   ],
   "source": [
    "lm = LinearRegression()\n",
    "lm.fit(x_train, y_train)\n",
    "y_predict = lm.predict(x_test)\n",
    "print(f'Training Accuracy {round(lm.score(x_train, y_train) * 100,2)}%')\n",
    "print(f'Test Accuracy {round(lm.score(x_test, y_test) * 100,2)}%')"
   ]
  },
  {
   "cell_type": "code",
   "execution_count": 12,
   "id": "f0c5c9ef",
   "metadata": {
    "execution": {
     "iopub.execute_input": "2022-04-17T08:46:32.630513Z",
     "iopub.status.busy": "2022-04-17T08:46:32.629788Z",
     "iopub.status.idle": "2022-04-17T08:46:32.636214Z",
     "shell.execute_reply": "2022-04-17T08:46:32.635661Z",
     "shell.execute_reply.started": "2022-04-05T10:15:44.825488Z"
    },
    "papermill": {
     "duration": 0.030921,
     "end_time": "2022-04-17T08:46:32.636349",
     "exception": false,
     "start_time": "2022-04-17T08:46:32.605428",
     "status": "completed"
    },
    "tags": []
   },
   "outputs": [
    {
     "data": {
      "text/plain": [
       "array([[20],\n",
       "       [40],\n",
       "       [60]])"
      ]
     },
     "execution_count": 12,
     "metadata": {},
     "output_type": "execute_result"
    }
   ],
   "source": [
    "new_data = np.array([20,40,60]).reshape(-1,1)\n",
    "new_data"
   ]
  },
  {
   "cell_type": "code",
   "execution_count": 13,
   "id": "022fe56c",
   "metadata": {
    "execution": {
     "iopub.execute_input": "2022-04-17T08:46:32.688035Z",
     "iopub.status.busy": "2022-04-17T08:46:32.687392Z",
     "iopub.status.idle": "2022-04-17T08:46:32.691096Z",
     "shell.execute_reply": "2022-04-17T08:46:32.691589Z",
     "shell.execute_reply.started": "2022-04-05T10:15:44.910732Z"
    },
    "papermill": {
     "duration": 0.032271,
     "end_time": "2022-04-17T08:46:32.691738",
     "exception": false,
     "start_time": "2022-04-17T08:46:32.659467",
     "status": "completed"
    },
    "tags": []
   },
   "outputs": [
    {
     "data": {
      "text/plain": [
       "array([50924.06080731, 50940.20428776, 50956.34776821])"
      ]
     },
     "execution_count": 13,
     "metadata": {},
     "output_type": "execute_result"
    }
   ],
   "source": [
    "lm.predict(new_data)"
   ]
  },
  {
   "cell_type": "code",
   "execution_count": 14,
   "id": "45f291aa",
   "metadata": {
    "execution": {
     "iopub.execute_input": "2022-04-17T08:46:32.759451Z",
     "iopub.status.busy": "2022-04-17T08:46:32.751813Z",
     "iopub.status.idle": "2022-04-17T08:46:32.921408Z",
     "shell.execute_reply": "2022-04-17T08:46:32.921841Z",
     "shell.execute_reply.started": "2022-04-05T10:15:44.977265Z"
    },
    "papermill": {
     "duration": 0.20694,
     "end_time": "2022-04-17T08:46:32.922027",
     "exception": false,
     "start_time": "2022-04-17T08:46:32.715087",
     "status": "completed"
    },
    "tags": []
   },
   "outputs": [
    {
     "data": {
      "text/plain": [
       "Text(0.5, 1.0, 'Profit Prediction Data')"
      ]
     },
     "execution_count": 14,
     "metadata": {},
     "output_type": "execute_result"
    },
    {
     "data": {
      "image/png": "[encoded data removed]",
      "text/plain": [
       "<Figure size 432x288 with 1 Axes>"
      ]
     },
     "metadata": {
      "needs_background": "light"
     },
     "output_type": "display_data"
    }
   ],
   "source": [
    "plt.scatter(x_train, y_train, color='red')\n",
    "plt.xlabel('Marketing Spend')\n",
    "plt.ylabel('Profit ')\n",
    "plt.title('Profit Prediction Data')"
   ]
  },
  {
   "cell_type": "code",
   "execution_count": 15,
   "id": "4673fd71",
   "metadata": {
    "execution": {
     "iopub.execute_input": "2022-04-17T08:46:32.973269Z",
     "iopub.status.busy": "2022-04-17T08:46:32.972656Z",
     "iopub.status.idle": "2022-04-17T08:46:33.168314Z",
     "shell.execute_reply": "2022-04-17T08:46:33.167743Z",
     "shell.execute_reply.started": "2022-04-05T10:15:45.219738Z"
    },
    "papermill": {
     "duration": 0.222134,
     "end_time": "2022-04-17T08:46:33.168468",
     "exception": false,
     "start_time": "2022-04-17T08:46:32.946334",
     "status": "completed"
    },
    "tags": []
   },
   "outputs": [
    {
     "data": {
      "text/plain": [
       "Text(0.5, 1.0, 'Actual Data vs Predictecd Data')"
      ]
     },
     "execution_count": 15,
     "metadata": {},
     "output_type": "execute_result"
    },
    {
     "data": {
      "image/png": "[encoded data removed]",
      "text/plain": [
       "<Figure size 432x288 with 1 Axes>"
      ]
     },
     "metadata": {
      "needs_background": "light"
     },
     "output_type": "display_data"
    }
   ],
   "source": [
    "%matplotlib inline\n",
    "plt.scatter(x_test,y_test, color='blue')\n",
    "plt.scatter(x_test,y_predict, color='red')\n",
    "y_line = lm.predict(X)\n",
    "plt.plot(X, y_line, 'black')\n",
    "plt.xlabel('Marketing Spend')\n",
    "plt.ylabel('Profit')\n",
    "plt.title('Actual Data vs Predictecd Data')"
   ]
  },
  {
   "cell_type": "markdown",
   "id": "fd8060a7",
   "metadata": {
    "papermill": {
     "duration": 0.026474,
     "end_time": "2022-04-17T08:46:33.222508",
     "exception": false,
     "start_time": "2022-04-17T08:46:33.196034",
     "status": "completed"
    },
    "tags": []
   },
   "source": [
    "## Draw at least three conclusions from your regression model :\n",
    "\n",
    "#### 1.The actual values has a little higher values .\n",
    "#### 2. The profit increases with the increse of amount spent.\n",
    "#### 3. The predicted profit follows a linear line ."
   ]
  }
 ],
 "metadata": {
  "kernelspec": {
   "display_name": "Python 3",
   "language": "python",
   "name": "python3"
  },
  "language_info": {
   "codemirror_mode": {
    "name": "ipython",
    "version": 3
   },
   "file_extension": ".py",
   "mimetype": "text/x-python",
   "name": "python",
   "nbconvert_exporter": "python",
   "pygments_lexer": "ipython3",
   "version": "3.7.12"
  },
  "papermill": {
   "default_parameters": {},
   "duration": 12.043614,
   "end_time": "2022-04-17T08:46:33.857192",
   "environment_variables": {},
   "exception": null,
   "input_path": "__notebook__.ipynb",
   "output_path": "__notebook__.ipynb",
   "parameters": {},
   "start_time": "2022-04-17T08:46:21.813578",
   "version": "2.3.3"
  }
 },
 "nbformat": 4,
 "nbformat_minor": 5
}
